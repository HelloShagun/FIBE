{
 "cells": [
  {
   "cell_type": "code",
   "execution_count": 1,
   "id": "b547815d-1c07-4660-a5fd-36dd23141be1",
   "metadata": {},
   "outputs": [
    {
     "name": "stdout",
     "output_type": "stream",
     "text": [
      "hello world\n"
     ]
    },
    {
     "name": "stderr",
     "output_type": "stream",
     "text": [
      "\u001b[1mNo such file or directory: boids.ipynb\u001b[0m\n"
     ]
    }
   ],
   "source": [
    "import matplotlib.animation as animation\n",
    "from IPython.display import HTML\n",
    "import numpy as np\n",
    "from matplotlib import pyplot as plt\n",
    "\n",
    "!nbqa flake8 boids.ipynb\n",
    "print(\"hello world\")"
   ]
  },
  {
   "cell_type": "code",
   "execution_count": 2,
   "id": "8b577c70-147f-4dd8-9dde-90b79e0845b5",
   "metadata": {},
   "outputs": [],
   "source": [
    "def generate_boid_attributes(lower, upper, n=10):\n",
    "    width = upper - lower\n",
    "    attributes = np.random.random_sample(size=(2, n)) * width[:, np.newaxis]\n",
    "    attributes += lower[:, np.newaxis]\n",
    "    return attributes\n",
    "\n",
    "\n",
    "expected = (2, 10)\n",
    "actual = generate_boid_attributes(np.array([0, 0]), np.array([1, 1])).shape\n",
    "assert expected == actual"
   ]
  },
  {
   "cell_type": "code",
   "execution_count": 3,
   "id": "a21337c8-685b-4ac6-8882-1d99001232a8",
   "metadata": {},
   "outputs": [
    {
     "data": {
      "text/plain": [
       "array([[166.95357953, 174.64667657, 183.0927416 , 163.18136653,\n",
       "        175.99858485, 164.98054078, 199.87013446, 178.32842708,\n",
       "        199.12932   , 186.95685349],\n",
       "       [322.81103045, 358.61612811, 374.41157822, 347.12465443,\n",
       "        350.15731617, 301.83379493, 338.10108133, 351.13829163,\n",
       "        310.2081688 , 326.17450212]])"
      ]
     },
     "execution_count": 3,
     "metadata": {},
     "output_type": "execute_result"
    }
   ],
   "source": [
    "lower_p = np.array([150, 300])  # x-lower, y-lower\n",
    "upper_p = np.array([200, 400])  # x-upper, y-upp\n",
    "\n",
    "positions = generate_boid_attributes(lower_p, upper_p)\n",
    "positions"
   ]
  },
  {
   "cell_type": "code",
   "execution_count": 4,
   "id": "92cc758a-96e5-4ea9-88e1-fece6b982fff",
   "metadata": {},
   "outputs": [
    {
     "data": {
      "text/plain": [
       "array([[ 1.06770736e+01,  9.07101813e+00,  5.01613998e+00,\n",
       "         5.22843397e+00,  1.42106442e+01,  9.97381652e+00,\n",
       "         1.11880221e+01,  1.35834334e+01,  5.38525242e+00,\n",
       "         1.12876659e+01],\n",
       "       [-9.13014296e+00, -6.54108897e+00,  1.89949690e+00,\n",
       "        -8.86712789e+00,  4.14766653e+00,  4.73353974e+00,\n",
       "         1.47415649e+00, -1.29503294e-02,  1.63637880e+00,\n",
       "         1.00778577e+00]])"
      ]
     },
     "execution_count": 4,
     "metadata": {},
     "output_type": "execute_result"
    }
   ],
   "source": [
    "lower_v = np.array([5, -10])  # x-lower, y-lower\n",
    "upper_v = np.array([15, 5])  # x-upper, y-upp\n",
    "\n",
    "velocities = generate_boid_attributes(lower_v, upper_v)\n",
    "velocities"
   ]
  },
  {
   "cell_type": "code",
   "execution_count": 5,
   "id": "cb3025e0-b2b3-4dfd-80e9-fcb95db73498",
   "metadata": {},
   "outputs": [
    {
     "data": {
      "image/png": "[encoded data removed]",
      "text/plain": [
       "<Figure size 432x288 with 1 Axes>"
      ]
     },
     "metadata": {
      "needs_background": "light"
     },
     "output_type": "display_data"
    }
   ],
   "source": [
    "plt.xlim(0, 4 * upper_p[0] + upper_v[0])\n",
    "plt.ylim(0, 2 * upper_p[1] + upper_v[1])\n",
    "\n",
    "scatter = plt.scatter(positions[0, :], positions[1:])"
   ]
  },
  {
   "cell_type": "code",
   "execution_count": 6,
   "id": "fa0bf1da-4227-4dee-9a3f-5a1b825962e9",
   "metadata": {},
   "outputs": [],
   "source": [
    "def update_boids(positions, velocities):\n",
    "    \"\"\"Updates the boid positions.\"\"\"\n",
    "    positions += velocities\n",
    "\n",
    "\n",
    "def animate(frame):\n",
    "    \"\"\"Updates the scatter plot.\"\"\"\n",
    "    update_boids(positions, velocities)\n",
    "    scatter.set_offsets(positions.transpose())"
   ]
  },
  {
   "cell_type": "code",
   "execution_count": null,
   "id": "b31fafed-4b52-47bd-a388-046a6412860d",
   "metadata": {},
   "outputs": [],
   "source": [
    "anim = animation.FuncAnimation(scatter.figure, animate, frames=50, interval=50)\n",
    "\n",
    "HTML(anim.to_jshtml())"
   ]
  },
  {
   "cell_type": "code",
   "execution_count": null,
   "id": "ccba5dfc-0cd1-486d-bbe0-86cad4e6f31d",
   "metadata": {},
   "outputs": [],
   "source": [
    "test_pos = np.array([[1.0,2.0,3.0],[1.0,2.0,3.0]])\n",
    "test_vel = np.array([[1.0,1.0,1.0],[1.0,1.0,1.0]])\n",
    "update_boids(test_pos, test_vel)\n",
    "np.testing.assert_array_equal(test_pos, np.array([[2.1, 3. , 3.9],\n",
    "       [2.1, 3. , 3.9]]))\n"
   ]
  }
 ],
 "metadata": {
  "kernelspec": {
   "display_name": "Python 3 (ipykernel)",
   "language": "python",
   "name": "python3"
  },
  "language_info": {
   "codemirror_mode": {
    "name": "ipython",
    "version": 3
   },
   "file_extension": ".py",
   "mimetype": "text/x-python",
   "name": "python",
   "nbconvert_exporter": "python",
   "pygments_lexer": "ipython3",
   "version": "3.8.12"
  }
 },
 "nbformat": 4,
 "nbformat_minor": 5
}
